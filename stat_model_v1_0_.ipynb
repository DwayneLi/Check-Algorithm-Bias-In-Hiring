{
  "nbformat": 4,
  "nbformat_minor": 0,
  "metadata": {
    "colab": {
      "name": "stat model v1.0 .ipynb",
      "provenance": [],
      "collapsed_sections": [],
      "include_colab_link": true
    },
    "kernelspec": {
      "name": "python3",
      "display_name": "Python 3"
    }
  },
  "cells": [
    {
      "cell_type": "markdown",
      "metadata": {
        "id": "view-in-github",
        "colab_type": "text"
      },
      "source": [
        "<a href=\"https://colab.research.google.com/github/DwayneLi/Check_Algorithm_Bias_In_Hiring/blob/master/stat_model_v1_0_.ipynb\" target=\"_parent\"><img src=\"https://colab.research.google.com/assets/colab-badge.svg\" alt=\"Open In Colab\"/></a>"
      ]
    },
    {
      "cell_type": "markdown",
      "metadata": {
        "id": "TUj5qOxbug0p"
      },
      "source": [
        "# Data Preparation"
      ]
    },
    {
      "cell_type": "markdown",
      "metadata": {
        "id": "6AXt3NtI5olQ"
      },
      "source": [
        "### required packages"
      ]
    },
    {
      "cell_type": "code",
      "metadata": {
        "id": "R_ZCVJMw3HeQ",
        "outputId": "a6578bbb-69de-4d08-ed24-ea21590009f0",
        "colab": {
          "base_uri": "https://localhost:8080/"
        }
      },
      "source": [
        "import numpy as np\n",
        "import pandas as pd\n",
        "import matplotlib.pyplot as plt\n",
        "import seaborn as sns\n",
        "import statsmodels.api as sm\n",
        "import statsmodels.formula.api as smf\n",
        "from scipy.stats import zscore, zmap\n",
        "from sklearn.model_selection import train_test_split\n",
        "import statsmodels.stats.proportion as proportion\n",
        "from statsmodels.stats.proportion import proportions_ztest\n",
        "import warnings\n",
        "warnings.filterwarnings('ignore')\n",
        "!pip install pyreadstat\n",
        "!wget -q https://www.dropbox.com/s/7rd15y2jdam5wls/carsales.sav\n",
        "!wget -q https://www.dropbox.com/s/0ctjebkulbqv23z/Professional_Sales_Applicants.sav"
      ],
      "execution_count": 16,
      "outputs": [
        {
          "output_type": "stream",
          "text": [
            "Requirement already satisfied: pyreadstat in /usr/local/lib/python3.6/dist-packages (1.0.2)\n",
            "Requirement already satisfied: pandas>0.24.0 in /usr/local/lib/python3.6/dist-packages (from pyreadstat) (1.1.3)\n",
            "Requirement already satisfied: pytz>=2017.2 in /usr/local/lib/python3.6/dist-packages (from pandas>0.24.0->pyreadstat) (2018.9)\n",
            "Requirement already satisfied: python-dateutil>=2.7.3 in /usr/local/lib/python3.6/dist-packages (from pandas>0.24.0->pyreadstat) (2.8.1)\n",
            "Requirement already satisfied: numpy>=1.15.4 in /usr/local/lib/python3.6/dist-packages (from pandas>0.24.0->pyreadstat) (1.18.5)\n",
            "Requirement already satisfied: six>=1.5 in /usr/local/lib/python3.6/dist-packages (from python-dateutil>=2.7.3->pandas>0.24.0->pyreadstat) (1.15.0)\n"
          ],
          "name": "stdout"
        }
      ]
    },
    {
      "cell_type": "markdown",
      "metadata": {
        "id": "MKQypk4p5wJr"
      },
      "source": [
        "### Our train data contain 313 records including protected attributes, assessment dimention percentiles and rating score of each candidates. Our test data over 25000 rows including protected attributes and final result of recommend along with the assessment dimention percentiles."
      ]
    },
    {
      "cell_type": "code",
      "metadata": {
        "id": "oRdjDshA3SlU"
      },
      "source": [
        "df= pd.read_spss('carsales.sav')\n",
        "test= pd.read_spss(\"Professional_Sales_Applicants.sav\")"
      ],
      "execution_count": 17,
      "outputs": []
    },
    {
      "cell_type": "markdown",
      "metadata": {
        "id": "TfdanG8o3u3x"
      },
      "source": [
        "### Clean data"
      ]
    },
    {
      "cell_type": "code",
      "metadata": {
        "id": "37ksEUn744lA"
      },
      "source": [
        "df=df.dropna()\n",
        "test=test.dropna()"
      ],
      "execution_count": 22,
      "outputs": []
    },
    {
      "cell_type": "markdown",
      "metadata": {
        "id": "1Bnhraow4Al6"
      },
      "source": [
        "All null values are deleted. The analysis of null value in the EDA notebook."
      ]
    },
    {
      "cell_type": "markdown",
      "metadata": {
        "id": "XgYJ901-W7nb"
      },
      "source": [
        "#Modeling"
      ]
    },
    {
      "cell_type": "markdown",
      "metadata": {
        "id": "6fP0UF4Q0UBX"
      },
      "source": [
        "## Relationship with existing OverallRating and (Age, Gender, Ethics)\n"
      ]
    },
    {
      "cell_type": "markdown",
      "metadata": {
        "id": "fvJkwPKMo_a0"
      },
      "source": [
        "### OLS regression using all protected attributes to test if there relationship in age, gender and ethics to overall rating score\n",
        "\n",
        "Gather some categories with smaller amount into \"other\" category"
      ]
    },
    {
      "cell_type": "code",
      "metadata": {
        "id": "GiHwQalFyXuR",
        "outputId": "eb1d4891-21bf-4a64-8d9d-1f8722651a98",
        "colab": {
          "base_uri": "https://localhost:8080/"
        }
      },
      "source": [
        "df2=df.copy()\n",
        "df2.loc[df2[\"Race\"] == \"Two or More Races (not Hispanic or Latino)\",\"Race\"]=\"Other\"\n",
        "df2.loc[df2[\"Race\"] == \"American Indian or Alaska Native (not Hispanic or Latino)\",\"Race\"]=\"Other\"\n",
        "df2.loc[df2[\"Race\"] == \"Native Hawaiian or Other Pacific Islander (not Hispanic or Latino)\",\"Race\"]=\"Other\"\n",
        "df2['Race']=df2['Race'].str.replace('(not Hispanic or Latino)','')\n",
        "df2['Race']=df2['Race'].str.strip('()')\n",
        "df2[\"Race\"].value_counts()"
      ],
      "execution_count": 37,
      "outputs": [
        {
          "output_type": "execute_result",
          "data": {
            "text/plain": [
              "White                         160\n",
              "Hispanic or Latino             52\n",
              "Black or African American      46\n",
              "Asian                          20\n",
              "Other                          20\n",
              "Prefer Not To Say              15\n",
              "Name: Race, dtype: int64"
            ]
          },
          "metadata": {
            "tags": []
          },
          "execution_count": 37
        }
      ]
    },
    {
      "cell_type": "markdown",
      "metadata": {
        "id": "LJbVihoDAAc0"
      },
      "source": [
        "create dummy variables"
      ]
    },
    {
      "cell_type": "code",
      "metadata": {
        "id": "N4ZvrlHfyhxo"
      },
      "source": [
        "race=pd.get_dummies(df2['Race'],drop_first=False)\n",
        "Ageband=pd.get_dummies(df2['AgeBand'],drop_first=False)\n",
        "Gender=pd.get_dummies(df2['Gender'],drop_first=False)\n",
        "protected=pd.concat([race,Ageband,Gender], axis=1)"
      ],
      "execution_count": 38,
      "outputs": []
    },
    {
      "cell_type": "markdown",
      "metadata": {
        "id": "EOHsxF95AC-l"
      },
      "source": [
        "regression for the acutal score with age, gender, ethics"
      ]
    },
    {
      "cell_type": "code",
      "metadata": {
        "id": "8o59Dhhkyl8w",
        "outputId": "3aea8dc2-8db9-46d4-8b3c-7a8a1aa9bcda",
        "colab": {
          "base_uri": "https://localhost:8080/"
        }
      },
      "source": [
        "results_actual= smf.ols('OverallRating ~ race+Ageband+Gender', data=df2).fit()\n",
        "print(results_actual.summary())"
      ],
      "execution_count": 39,
      "outputs": [
        {
          "output_type": "stream",
          "text": [
            "                            OLS Regression Results                            \n",
            "==============================================================================\n",
            "Dep. Variable:          OverallRating   R-squared:                       0.048\n",
            "Model:                            OLS   Adj. R-squared:                  0.007\n",
            "Method:                 Least Squares   F-statistic:                     1.161\n",
            "Date:                Wed, 04 Nov 2020   Prob (F-statistic):              0.307\n",
            "Time:                        22:41:29   Log-Likelihood:                -460.00\n",
            "No. Observations:                 313   AIC:                             948.0\n",
            "Df Residuals:                     299   BIC:                             1000.\n",
            "Df Model:                          13                                         \n",
            "Covariance Type:            nonrobust                                         \n",
            "===============================================================================================\n",
            "                                  coef    std err          t      P>|t|      [0.025      0.975]\n",
            "-----------------------------------------------------------------------------------------------\n",
            "Intercept                       2.4544      0.141     17.448      0.000       2.178       2.731\n",
            "Gender[T.Male]                 -0.0756      0.159     -0.475      0.635      -0.389       0.238\n",
            "Gender[T.Prefer not to say]     0.4348      0.676      0.644      0.520      -0.895       1.764\n",
            "race[0]                         0.7146      0.227      3.148      0.002       0.268       1.161\n",
            "race[1]                         0.3625      0.164      2.215      0.028       0.040       0.684\n",
            "race[2]                         0.3915      0.158      2.471      0.014       0.080       0.703\n",
            "race[3]                         0.4937      0.227      2.178      0.030       0.048       0.940\n",
            "race[4]                         0.1449      0.374      0.388      0.699      -0.591       0.881\n",
            "race[5]                         0.3471      0.120      2.898      0.004       0.111       0.583\n",
            "Ageband[0]                     -0.4539      0.555     -0.818      0.414      -1.546       0.639\n",
            "Ageband[1]                      0.6083      0.151      4.020      0.000       0.311       0.906\n",
            "Ageband[2]                      0.5131      0.172      2.987      0.003       0.175       0.851\n",
            "Ageband[3]                      0.8112      0.178      4.557      0.000       0.461       1.162\n",
            "Ageband[4]                      0.6886      0.172      3.992      0.000       0.349       1.028\n",
            "Ageband[5]                      0.2492      0.188      1.326      0.186      -0.121       0.619\n",
            "Ageband[6]                      0.0378      0.483      0.078      0.938      -0.913       0.989\n",
            "==============================================================================\n",
            "Omnibus:                        6.306   Durbin-Watson:                   1.949\n",
            "Prob(Omnibus):                  0.043   Jarque-Bera (JB):                6.062\n",
            "Skew:                          -0.296   Prob(JB):                       0.0483\n",
            "Kurtosis:                       2.660   Cond. No.                     9.85e+15\n",
            "==============================================================================\n",
            "\n",
            "Warnings:\n",
            "[1] Standard Errors assume that the covariance matrix of the errors is correctly specified.\n",
            "[2] The smallest eigenvalue is 7.16e-30. This might indicate that there are\n",
            "strong multicollinearity problems or that the design matrix is singular.\n"
          ],
          "name": "stdout"
        }
      ]
    },
    {
      "cell_type": "markdown",
      "metadata": {
        "id": "IqFzN_tFAGsv"
      },
      "source": [
        "We hold the null hypothesis that protected attributes have no influence on overall rating score.\n",
        "\n",
        "The resutls shows that give alpha to be 0.05, the race[0], race[1] ,race[5] and ageband[1:4] have statisticall significant influence on overall rating score."
      ]
    },
    {
      "cell_type": "markdown",
      "metadata": {
        "id": "dQyQt8-Nxn01"
      },
      "source": [
        "## Fit model, predcit overallrating and check bias"
      ]
    },
    {
      "cell_type": "markdown",
      "metadata": {
        "id": "odEvxhaYBcWX"
      },
      "source": [
        "### Take train test split, the 'df' dataframe as train dataset and the 'test' dataframe as test dataset "
      ]
    },
    {
      "cell_type": "code",
      "metadata": {
        "id": "62pDqPFsW61L"
      },
      "source": [
        "X_train = df.iloc[:,6:28]\n",
        "X_test = test.iloc[:,15:35]\n",
        "X_train_0, X_test_0, y_train_0, y_test_0 = train_test_split(X_train, df.OverallRating, test_size=0.3, random_state=0)"
      ],
      "execution_count": 40,
      "outputs": []
    },
    {
      "cell_type": "markdown",
      "metadata": {
        "id": "5Nbt9_NwB-JI"
      },
      "source": [
        "Fit the model"
      ]
    },
    {
      "cell_type": "code",
      "metadata": {
        "id": "sHEInosyXN3-",
        "outputId": "cb748761-1f29-4e9f-bebb-d9b567f7eebe",
        "colab": {
          "base_uri": "https://localhost:8080/"
        }
      },
      "source": [
        "from sklearn.linear_model import LinearRegression\n",
        "lm = LinearRegression() \n",
        "lm.fit(X_train_0, y_train_0)\n",
        "y_test_0.predict=lm.predict(X_test_0)\n",
        "print('Coefficients: \\n', lm.coef_)\n",
        "print('Intercept: \\n', lm.intercept_)\n",
        "print('R2 for Train', lm.score( X_train_0, y_train_0 ))\n",
        "print('R2 for Test ', lm.score(X_test_0, y_test_0))"
      ],
      "execution_count": 41,
      "outputs": [
        {
          "output_type": "stream",
          "text": [
            "Coefficients: \n",
            " [-0.25393264 -0.37952731 -0.34631502  0.77078372 -0.37040078 -0.85139293\n",
            " -0.66300667 -0.28013756  0.22917723  0.05768146 -0.50121535  0.1369348\n",
            "  0.1114772   0.25731077  0.85323279  0.45429727  0.25837847  0.42546243\n",
            "  1.36135422 -0.28227065]\n",
            "Intercept: \n",
            " 2.8195778342515054\n",
            "R2 for Train 0.19593613101934548\n",
            "R2 for Test  0.013018479813734607\n"
          ],
          "name": "stdout"
        }
      ]
    },
    {
      "cell_type": "markdown",
      "metadata": {
        "id": "UdHWNcPqZdxF"
      },
      "source": [
        "### Get the recommend rate from history record\n",
        "\n",
        "**The recommend rate from test data set is 77.2%**"
      ]
    },
    {
      "cell_type": "code",
      "metadata": {
        "id": "pxfTfTTB5O7d",
        "outputId": "df7f2baa-4fc0-4194-ab98-0a4a8542beb2",
        "colab": {
          "base_uri": "https://localhost:8080/"
        }
      },
      "source": [
        "recommendornot=test['OverallFitPassFail'].value_counts()\n",
        "total=recommendornot.sum()\n",
        "recommend_rate=recommendornot[0]/total\n",
        "print('Recommend rate is {} '.format('{0:0.1%}'.format(recommend_rate)))"
      ],
      "execution_count": 89,
      "outputs": [
        {
          "output_type": "stream",
          "text": [
            "Recommend rate is 77.2% \n"
          ],
          "name": "stdout"
        }
      ]
    },
    {
      "cell_type": "markdown",
      "metadata": {
        "id": "Mu2Dm73ZZ8t-"
      },
      "source": [
        "Predict the OverallRating using train data set"
      ]
    },
    {
      "cell_type": "code",
      "metadata": {
        "id": "-lVStl1h6PrK"
      },
      "source": [
        "X = df.iloc[:,6:28]\n",
        "df2['Prediction']=lm.predict(X)"
      ],
      "execution_count": 43,
      "outputs": []
    },
    {
      "cell_type": "markdown",
      "metadata": {
        "id": "bftJTVQnZ_48"
      },
      "source": [
        "Sort the candidates by prediction"
      ]
    },
    {
      "cell_type": "code",
      "metadata": {
        "id": "AgOu9RkY6k2M"
      },
      "source": [
        "df2.sort_values(\"Prediction\", inplace=True)"
      ],
      "execution_count": 44,
      "outputs": []
    },
    {
      "cell_type": "markdown",
      "metadata": {
        "id": "IQihqklcaJ3X"
      },
      "source": [
        "Select top 77.2% as recommend, and the bottom 22.8% at not recommend.\n",
        "\n",
        "There are total 313 records, we sorted the data based on pred OverallRating, and the separation is 313*22.8% = 71.\n",
        "\n",
        "Then we got the corresponding rating score of the last reccomend candidates."
      ]
    },
    {
      "cell_type": "code",
      "metadata": {
        "id": "ya2i6crv6pQ3",
        "outputId": "809b7590-b831-4297-fe23-b23ec7bc76b4",
        "colab": {
          "base_uri": "https://localhost:8080/"
        }
      },
      "source": [
        "df2.iloc[71:72,:]['Prediction']"
      ],
      "execution_count": 92,
      "outputs": [
        {
          "output_type": "execute_result",
          "data": {
            "text/plain": [
              "272    2.959518\n",
              "Name: Prediction, dtype: float64"
            ]
          },
          "metadata": {
            "tags": []
          },
          "execution_count": 92
        }
      ]
    },
    {
      "cell_type": "code",
      "metadata": {
        "id": "Ylf2eFY97IjQ"
      },
      "source": [
        "# Since the socre of the applicants on dividing line is dictinct, we could use this method to separate.\n",
        "df2['recommend']=0\n",
        "df2.loc[df2['Prediction']>= 2.959518,'recommend']=1"
      ],
      "execution_count": 93,
      "outputs": []
    },
    {
      "cell_type": "code",
      "metadata": {
        "id": "DQVrYOt6enqL"
      },
      "source": [
        "results_actual= smf.ols('OverallRating ~ race+Ageband+Gender', data=df2).fit()\n",
        "print(results_actual.summary())"
      ],
      "execution_count": null,
      "outputs": []
    },
    {
      "cell_type": "markdown",
      "metadata": {
        "id": "GB4ez0QTfEDT"
      },
      "source": [
        "Check our regression result with the train data."
      ]
    },
    {
      "cell_type": "code",
      "metadata": {
        "id": "cXki1NzX7sob",
        "outputId": "6b14ed11-7675-4a55-f0a7-780ad5d9a23e",
        "colab": {
          "base_uri": "https://localhost:8080/"
        }
      },
      "source": [
        "# regression for the predict score\n",
        "results_predict= smf.ols('Prediction ~ Race+AgeBand+Gender', data=df2).fit()\n",
        "print(results_predict.summary())"
      ],
      "execution_count": 94,
      "outputs": [
        {
          "output_type": "stream",
          "text": [
            "                            OLS Regression Results                            \n",
            "==============================================================================\n",
            "Dep. Variable:             Prediction   R-squared:                       0.040\n",
            "Model:                            OLS   Adj. R-squared:                 -0.002\n",
            "Method:                 Least Squares   F-statistic:                    0.9493\n",
            "Date:                Wed, 04 Nov 2020   Prob (F-statistic):              0.502\n",
            "Time:                        22:50:46   Log-Likelihood:                -194.31\n",
            "No. Observations:                 313   AIC:                             416.6\n",
            "Df Residuals:                     299   BIC:                             469.1\n",
            "Df Model:                          13                                         \n",
            "Covariance Type:            nonrobust                                         \n",
            "======================================================================================================\n",
            "                                         coef    std err          t      P>|t|      [0.025      0.975]\n",
            "------------------------------------------------------------------------------------------------------\n",
            "Intercept                              3.1249      0.282     11.085      0.000       2.570       3.680\n",
            "Race[T.Black or African American ]    -0.0081      0.126     -0.064      0.949      -0.255       0.239\n",
            "Race[T.Hispanic or Latino]            -0.1626      0.123     -1.321      0.187      -0.405       0.080\n",
            "Race[T.Other]                         -0.1290      0.150     -0.859      0.391      -0.424       0.166\n",
            "Race[T.Prefer Not To Say]             -0.1445      0.213     -0.680      0.497      -0.563       0.274\n",
            "Race[T.White ]                        -0.1644      0.111     -1.476      0.141      -0.384       0.055\n",
            "AgeBand[T.20-29]                       0.3814      0.273      1.398      0.163      -0.156       0.918\n",
            "AgeBand[T.30-39]                       0.4306      0.276      1.563      0.119      -0.112       0.973\n",
            "AgeBand[T.40-49]                       0.3707      0.277      1.339      0.182      -0.174       0.915\n",
            "AgeBand[T.50-59]                       0.3334      0.277      1.204      0.230      -0.212       0.878\n",
            "AgeBand[T.60 or over]                  0.3570      0.280      1.277      0.202      -0.193       0.907\n",
            "AgeBand[T.Prefer Not To Say]           0.4249      0.358      1.186      0.237      -0.280       1.130\n",
            "Gender[T.Male]                        -0.1101      0.068     -1.617      0.107      -0.244       0.024\n",
            "Gender[T.Prefer not to say]           -0.2431      0.289     -0.841      0.401      -0.812       0.326\n",
            "==============================================================================\n",
            "Omnibus:                        6.647   Durbin-Watson:                   0.082\n",
            "Prob(Omnibus):                  0.036   Jarque-Bera (JB):                7.175\n",
            "Skew:                          -0.247   Prob(JB):                       0.0277\n",
            "Kurtosis:                       3.553   Cond. No.                         41.1\n",
            "==============================================================================\n",
            "\n",
            "Warnings:\n",
            "[1] Standard Errors assume that the covariance matrix of the errors is correctly specified.\n"
          ],
          "name": "stdout"
        }
      ]
    },
    {
      "cell_type": "markdown",
      "metadata": {
        "id": "ofjlABAmdOkB"
      },
      "source": [
        "**From the summary, we find all independent variables have p value larger than 0.05 so we can conclude the age, race and gender have no significant influence in predicting the overall rating**"
      ]
    },
    {
      "cell_type": "markdown",
      "metadata": {
        "id": "9tYHiLYCe87U"
      },
      "source": [
        "### Predict the OverallRating by using test data set"
      ]
    },
    {
      "cell_type": "code",
      "metadata": {
        "id": "nYnwRGE3XQYo"
      },
      "source": [
        "# Predict the OverallRating by using test data set\n",
        "predict=lm.predict(X_test)\n",
        "test['pred']=predict"
      ],
      "execution_count": 49,
      "outputs": []
    },
    {
      "cell_type": "markdown",
      "metadata": {
        "id": "atlDEGPtfXlh"
      },
      "source": [
        "Select top 77.2% as recommend, and the bottom 22.8% at not recommend.\n",
        "\n",
        "There are total 28727 records, we sorted the data based on pred OverallRating, and the separation is 28727*22.8% = 6550.\n",
        "\n",
        "Then we got the corresponding rating score of the last reccomend candidates."
      ]
    },
    {
      "cell_type": "code",
      "metadata": {
        "id": "166ktJAjXh1U"
      },
      "source": [
        "# Sort the candidates by predicted OverallRating\n",
        "test.sort_values(\"pred\", inplace=True)\n",
        "\n",
        "Not_Recommend  = test.iloc[0:6550,:] \n",
        "Recommend  = test.iloc[6550:28727,:] "
      ],
      "execution_count": 95,
      "outputs": []
    },
    {
      "cell_type": "code",
      "metadata": {
        "id": "PrD_Ab_98jod",
        "outputId": "2d7d347a-3e5a-4d31-8577-aa33db0325aa",
        "colab": {
          "base_uri": "https://localhost:8080/",
          "height": 117
        }
      },
      "source": [
        "test.iloc[6550:6551,:]"
      ],
      "execution_count": 97,
      "outputs": [
        {
          "output_type": "execute_result",
          "data": {
            "text/html": [
              "<div>\n",
              "<style scoped>\n",
              "    .dataframe tbody tr th:only-of-type {\n",
              "        vertical-align: middle;\n",
              "    }\n",
              "\n",
              "    .dataframe tbody tr th {\n",
              "        vertical-align: top;\n",
              "    }\n",
              "\n",
              "    .dataframe thead th {\n",
              "        text-align: right;\n",
              "    }\n",
              "</style>\n",
              "<table border=\"1\" class=\"dataframe\">\n",
              "  <thead>\n",
              "    <tr style=\"text-align: right;\">\n",
              "      <th></th>\n",
              "      <th>CMX</th>\n",
              "      <th>ClientId</th>\n",
              "      <th>ClientName</th>\n",
              "      <th>Industry_Final</th>\n",
              "      <th>AgeRange</th>\n",
              "      <th>Ethnicity</th>\n",
              "      <th>Gender</th>\n",
              "      <th>TestBatteryInstanceId</th>\n",
              "      <th>JobName</th>\n",
              "      <th>OutMatchJobProfileId</th>\n",
              "      <th>IsMobile</th>\n",
              "      <th>TbiTimeToCompletesecs</th>\n",
              "      <th>OverallFitScore</th>\n",
              "      <th>OverallFitBand</th>\n",
              "      <th>OverallFitPassFail</th>\n",
              "      <th>Accommodation_tile</th>\n",
              "      <th>Assertiveness_tile</th>\n",
              "      <th>CautiousThinking_tile</th>\n",
              "      <th>Competitiveness_tile</th>\n",
              "      <th>CriticismTolerance_tile</th>\n",
              "      <th>DetailInterest_tile</th>\n",
              "      <th>FollowThrough_tile</th>\n",
              "      <th>InterpersonalInsight_tile</th>\n",
              "      <th>Multitasking_tile</th>\n",
              "      <th>ObjectiveThinking_tile</th>\n",
              "      <th>Optimism_tile</th>\n",
              "      <th>PositiveViewofPeople_tile</th>\n",
              "      <th>PreferenceforStructure_tile</th>\n",
              "      <th>ProcessFocused_tile</th>\n",
              "      <th>RealisticThinking_tile</th>\n",
              "      <th>ReflectiveThinking_tile</th>\n",
              "      <th>Sociability_tile</th>\n",
              "      <th>SocialRestraint_tile</th>\n",
              "      <th>WorkIndependence_tile</th>\n",
              "      <th>WorkIntensity_tile</th>\n",
              "      <th>pred</th>\n",
              "      <th>recommend</th>\n",
              "    </tr>\n",
              "  </thead>\n",
              "  <tbody>\n",
              "    <tr>\n",
              "      <th>9192</th>\n",
              "      <td>1.0</td>\n",
              "      <td>41.0</td>\n",
              "      <td>CarMax</td>\n",
              "      <td>Retail</td>\n",
              "      <td>20-29</td>\n",
              "      <td>Hispanic or Latino</td>\n",
              "      <td>Male</td>\n",
              "      <td>877294.0</td>\n",
              "      <td>Sales Consultant</td>\n",
              "      <td>220.0</td>\n",
              "      <td>Yes</td>\n",
              "      <td>13.0</td>\n",
              "      <td>4.5</td>\n",
              "      <td>Strongest</td>\n",
              "      <td>Recommend</td>\n",
              "      <td>0.5793</td>\n",
              "      <td>0.9929</td>\n",
              "      <td>1.0</td>\n",
              "      <td>1.0</td>\n",
              "      <td>0.7104</td>\n",
              "      <td>0.8665</td>\n",
              "      <td>0.71</td>\n",
              "      <td>0.9325</td>\n",
              "      <td>0.9239</td>\n",
              "      <td>0.6727</td>\n",
              "      <td>1.0</td>\n",
              "      <td>1.0</td>\n",
              "      <td>0.7511</td>\n",
              "      <td>0.6286</td>\n",
              "      <td>0.962</td>\n",
              "      <td>0.7107</td>\n",
              "      <td>1.0</td>\n",
              "      <td>1.0</td>\n",
              "      <td>0.11</td>\n",
              "      <td>1.0</td>\n",
              "      <td>2.814016</td>\n",
              "      <td>1</td>\n",
              "    </tr>\n",
              "  </tbody>\n",
              "</table>\n",
              "</div>"
            ],
            "text/plain": [
              "      CMX  ClientId ClientName  ... WorkIntensity_tile      pred recommend\n",
              "9192  1.0      41.0     CarMax  ...                1.0  2.814016         1\n",
              "\n",
              "[1 rows x 37 columns]"
            ]
          },
          "metadata": {
            "tags": []
          },
          "execution_count": 97
        }
      ]
    },
    {
      "cell_type": "markdown",
      "metadata": {
        "id": "gYox5W3DgeEN"
      },
      "source": [
        "Split the recommend and poor candidates."
      ]
    },
    {
      "cell_type": "code",
      "metadata": {
        "id": "ibpopxPGCVGP"
      },
      "source": [
        "# Since the socre of candidate on dividing line is dictinct, we could use this method to separate.\n",
        "test['recommend']=0\n",
        "test.loc[test['pred']> 2.814016,'recommend']=1"
      ],
      "execution_count": 98,
      "outputs": []
    },
    {
      "cell_type": "markdown",
      "metadata": {
        "id": "IbYWzYtJgjNC"
      },
      "source": [
        "Count the number of recommended and not recommended candidates with different gender"
      ]
    },
    {
      "cell_type": "code",
      "metadata": {
        "id": "7HsMzdCrXht3"
      },
      "source": [
        "recommend_male_tile = round(Recommend.loc[Recommend['Gender'] == 'Male'].shape[0]/test.loc[test['Gender'] == 'Male'].shape[0],2)\n",
        "recommend_female_tile = round(Recommend.loc[Recommend['Gender'] == 'Female'].shape[0]/test.loc[test['Gender'] == 'Female'].shape[0],2)\n",
        "poor_male_tile = round(Not_Recommend.loc[Not_Recommend['Gender'] == 'Male'].shape[0]/test.loc[test['Gender'] == 'Male'].shape[0],2)\n",
        "poor_female_tile = round(Not_Recommend.loc[Not_Recommend['Gender'] == 'Female'].shape[0]/test.loc[test['Gender'] == 'Female'].shape[0],2)"
      ],
      "execution_count": 106,
      "outputs": []
    },
    {
      "cell_type": "markdown",
      "metadata": {
        "id": "x6ERQjOfi7VQ"
      },
      "source": [
        "Get matrix of different gender and recommend rate."
      ]
    },
    {
      "cell_type": "code",
      "metadata": {
        "id": "E8qbJaX9hpph",
        "outputId": "b38bfdd0-41e3-4b94-9e80-5bb9842b7ba0",
        "colab": {
          "base_uri": "https://localhost:8080/",
          "height": 111
        }
      },
      "source": [
        "pd.DataFrame([[recommend_male_tile,recommend_female_tile],[poor_male_tile,poor_female_tile]],columns=['male','female'],index=['recommend','poor'])"
      ],
      "execution_count": 107,
      "outputs": [
        {
          "output_type": "execute_result",
          "data": {
            "text/html": [
              "<div>\n",
              "<style scoped>\n",
              "    .dataframe tbody tr th:only-of-type {\n",
              "        vertical-align: middle;\n",
              "    }\n",
              "\n",
              "    .dataframe tbody tr th {\n",
              "        vertical-align: top;\n",
              "    }\n",
              "\n",
              "    .dataframe thead th {\n",
              "        text-align: right;\n",
              "    }\n",
              "</style>\n",
              "<table border=\"1\" class=\"dataframe\">\n",
              "  <thead>\n",
              "    <tr style=\"text-align: right;\">\n",
              "      <th></th>\n",
              "      <th>male</th>\n",
              "      <th>female</th>\n",
              "    </tr>\n",
              "  </thead>\n",
              "  <tbody>\n",
              "    <tr>\n",
              "      <th>recommend</th>\n",
              "      <td>0.78</td>\n",
              "      <td>0.75</td>\n",
              "    </tr>\n",
              "    <tr>\n",
              "      <th>poor</th>\n",
              "      <td>0.22</td>\n",
              "      <td>0.25</td>\n",
              "    </tr>\n",
              "  </tbody>\n",
              "</table>\n",
              "</div>"
            ],
            "text/plain": [
              "           male  female\n",
              "recommend  0.78    0.75\n",
              "poor       0.22    0.25"
            ]
          },
          "metadata": {
            "tags": []
          },
          "execution_count": 107
        }
      ]
    },
    {
      "cell_type": "markdown",
      "metadata": {
        "id": "jkMsvYVbjXw5"
      },
      "source": [
        "Now let us introduce to you the Four-Fifth rules : Prescribes that a selection rate for any disadvantaged group that is not less than four-fifths of that for the group with the highest rate. \n",
        "\n",
        "A selection rate for any race,sex, or ethnic group which is less than 4/5 of the rate for the group with the highest rate will generally be regarded by the Federal enforcement agencies as evidence of adverse impact.\n",
        "\n",
        "The selection rate of the female is 75%, higher than 80% of selection rate of male, which means there is no bias between Male and Female based on four-fifth rules.\n"
      ]
    },
    {
      "cell_type": "markdown",
      "metadata": {
        "id": "temmG8mKoaWh"
      },
      "source": [
        "## Statistic test on protected attributes"
      ]
    },
    {
      "cell_type": "markdown",
      "metadata": {
        "id": "Gocez8UPnNF0"
      },
      "source": [
        "Then we come to Z-test / Chi Square test. First we test the relationship between gender and recommend result.\n",
        "\n"
      ]
    },
    {
      "cell_type": "markdown",
      "metadata": {
        "id": "G_9KdkSvouNS"
      },
      "source": [
        "### Gender and recommend result.\n",
        "\n",
        "Here our null hypothesis **H0** is that **there is no difference between the percentage of female and male**, and our **H1** hypothesis is that **there is difference between the percentage of female and male**."
      ]
    },
    {
      "cell_type": "code",
      "metadata": {
        "id": "vePws5m5vWxI",
        "outputId": "b6ad15a6-8b9b-4fa7-ce91-72d8291b190d",
        "colab": {
          "base_uri": "https://localhost:8080/"
        }
      },
      "source": [
        "female_recommend=Recommend.loc[Recommend['Gender'] == 'Female'].shape[0] #7164\n",
        "female_total=test.loc[test['Gender'] == 'Female'].shape[0]        #9515\n",
        "male_recoomend=Recommend.loc[Recommend['Gender'] == 'Male'].shape[0]   #14697\n",
        "male_total=test.loc[test['Gender'] == 'Male'].shape[0]          #18811\n",
        "\n",
        "pass_gender = np.array([female_recommend, male_recoomend])\n",
        "total_gender  = np.array([female_total,   male_total])\n",
        "\n",
        "chisq, pvalue, table = proportion.proportions_chisquare(pass_gender, total_gender)\n",
        "print('Results are ','chisq =%.3f, pvalue = %.3f'%(chisq, pvalue))"
      ],
      "execution_count": 117,
      "outputs": [
        {
          "output_type": "stream",
          "text": [
            "Results are  chisq =28.896, pvalue = 0.000\n"
          ],
          "name": "stdout"
        }
      ]
    },
    {
      "cell_type": "markdown",
      "metadata": {
        "id": "1ClgKu_LnpWF"
      },
      "source": [
        "Given chi square equals to 28.896 and p value less than 0.001, we can conclude that the gender has influence on recommend or not."
      ]
    },
    {
      "cell_type": "markdown",
      "metadata": {
        "id": "GzkHRLZ30exR"
      },
      "source": [
        "### Same test with Age and Ethics\n",
        "\n",
        "**All  tests can reject null hypothesis and imply that candidates' age and race are not independent of their recommend results.**"
      ]
    },
    {
      "cell_type": "code",
      "metadata": {
        "id": "rhkLcoUScGuQ",
        "outputId": "3515a20b-6137-4c2f-8618-315bbbc5b477",
        "colab": {
          "base_uri": "https://localhost:8080/"
        }
      },
      "source": [
        "test['AgeRange'].value_counts()"
      ],
      "execution_count": 118,
      "outputs": [
        {
          "output_type": "execute_result",
          "data": {
            "text/plain": [
              "20-29                12789\n",
              "30-39                 5053\n",
              "40-49                 3265\n",
              "50-59                 2791\n",
              "16-19                 2360\n",
              "60 or over            1471\n",
              "Prefer Not To Say      930\n",
              "                        70\n",
              "Name: AgeRange, dtype: int64"
            ]
          },
          "metadata": {
            "tags": []
          },
          "execution_count": 118
        }
      ]
    },
    {
      "cell_type": "code",
      "metadata": {
        "id": "u7L3tTSjcELD",
        "outputId": "e6643f81-7296-480b-97f0-1f7fe438b7c5",
        "colab": {
          "base_uri": "https://localhost:8080/"
        }
      },
      "source": [
        "Recommend.loc[Recommend['AgeRange'] == '20-29'].shape[0]"
      ],
      "execution_count": 119,
      "outputs": [
        {
          "output_type": "execute_result",
          "data": {
            "text/plain": [
              "9759"
            ]
          },
          "metadata": {
            "tags": []
          },
          "execution_count": 119
        }
      ]
    },
    {
      "cell_type": "code",
      "metadata": {
        "id": "ujqCZQN0cj_v",
        "outputId": "27dc1841-5fd2-4424-c291-edcd48fa38c0",
        "colab": {
          "base_uri": "https://localhost:8080/"
        }
      },
      "source": [
        "Recommend.loc[Recommend['AgeRange'] == '30-39'].shape[0]"
      ],
      "execution_count": 120,
      "outputs": [
        {
          "output_type": "execute_result",
          "data": {
            "text/plain": [
              "3850"
            ]
          },
          "metadata": {
            "tags": []
          },
          "execution_count": 120
        }
      ]
    },
    {
      "cell_type": "code",
      "metadata": {
        "id": "oP04azRcckI1",
        "outputId": "1f35e504-f420-4131-bb9a-056884fa672e",
        "colab": {
          "base_uri": "https://localhost:8080/"
        }
      },
      "source": [
        "Recommend.loc[Recommend['AgeRange'] == '40-49'].shape[0]"
      ],
      "execution_count": 121,
      "outputs": [
        {
          "output_type": "execute_result",
          "data": {
            "text/plain": [
              "2526"
            ]
          },
          "metadata": {
            "tags": []
          },
          "execution_count": 121
        }
      ]
    },
    {
      "cell_type": "code",
      "metadata": {
        "id": "jJFS8TzTckUx",
        "outputId": "107dfd95-f1f3-454d-8215-b893762ec84b",
        "colab": {
          "base_uri": "https://localhost:8080/"
        }
      },
      "source": [
        "Recommend.loc[Recommend['AgeRange'] == '50-59'].shape[0]"
      ],
      "execution_count": 122,
      "outputs": [
        {
          "output_type": "execute_result",
          "data": {
            "text/plain": [
              "2228"
            ]
          },
          "metadata": {
            "tags": []
          },
          "execution_count": 122
        }
      ]
    },
    {
      "cell_type": "code",
      "metadata": {
        "id": "UpZgYoYtgRAL",
        "outputId": "16b69b1f-e689-4faa-dfc4-fdc1a384fd8a",
        "colab": {
          "base_uri": "https://localhost:8080/"
        }
      },
      "source": [
        "Recommend.loc[Recommend['AgeRange'] == '16-19'].shape[0]"
      ],
      "execution_count": 123,
      "outputs": [
        {
          "output_type": "execute_result",
          "data": {
            "text/plain": [
              "1832"
            ]
          },
          "metadata": {
            "tags": []
          },
          "execution_count": 123
        }
      ]
    },
    {
      "cell_type": "code",
      "metadata": {
        "id": "C6pw7Mptcvby",
        "outputId": "19aa2f6c-f144-4fde-baf5-e6010d7d8110",
        "colab": {
          "base_uri": "https://localhost:8080/"
        }
      },
      "source": [
        "Recommend.loc[Recommend['AgeRange'] == '60 or over'].shape[0]"
      ],
      "execution_count": 124,
      "outputs": [
        {
          "output_type": "execute_result",
          "data": {
            "text/plain": [
              "1182"
            ]
          },
          "metadata": {
            "tags": []
          },
          "execution_count": 124
        }
      ]
    },
    {
      "cell_type": "code",
      "metadata": {
        "id": "QjqPHouqcvmg",
        "outputId": "08ed81e2-7d62-4d00-a744-95b767b58ba4",
        "colab": {
          "base_uri": "https://localhost:8080/"
        }
      },
      "source": [
        "Recommend.loc[Recommend['AgeRange'] == 'Prefer Not To Say'].shape[0]"
      ],
      "execution_count": 125,
      "outputs": [
        {
          "output_type": "execute_result",
          "data": {
            "text/plain": [
              "739"
            ]
          },
          "metadata": {
            "tags": []
          },
          "execution_count": 125
        }
      ]
    },
    {
      "cell_type": "code",
      "metadata": {
        "id": "3qe3RUJyfS9R",
        "outputId": "a57ac2f9-b2e7-4663-a482-63558883badb",
        "colab": {
          "base_uri": "https://localhost:8080/"
        }
      },
      "source": [
        "pass_age = np.array([9759,3850,2520,2228,1832,1182,739])\n",
        "total_age = np.array([12789,5053,3265,2791,2360,1471,930])\n",
        "\n",
        "chisq, pvalue, table = proportion.proportions_chisquare(pass_age, total_age)\n",
        "print('Results are ','chisq =%.3f, pvalue = %.3f'%(chisq, pvalue))"
      ],
      "execution_count": 126,
      "outputs": [
        {
          "output_type": "stream",
          "text": [
            "Results are  chisq =30.819, pvalue = 0.000\n"
          ],
          "name": "stdout"
        }
      ]
    },
    {
      "cell_type": "markdown",
      "metadata": {
        "id": "p0mgjApwybGt"
      },
      "source": [
        "Reject H0 due to high chi square and p value close to 0."
      ]
    },
    {
      "cell_type": "code",
      "metadata": {
        "id": "R7LrdPXJbIdA",
        "outputId": "ad0b7ad0-b695-4777-8917-aef8e2e84426",
        "colab": {
          "base_uri": "https://localhost:8080/"
        }
      },
      "source": [
        "test['Ethnicity'].value_counts()"
      ],
      "execution_count": 78,
      "outputs": [
        {
          "output_type": "execute_result",
          "data": {
            "text/plain": [
              "White (not Hispanic or Latino)                                        12005\n",
              "Black or African American (not Hispanic or Latino)                     7636\n",
              "Hispanic or Latino                                                     4964\n",
              "Two or More Races (not Hispanic or Latino)                             1512\n",
              "Asian (not Hispanic or Latino)                                         1187\n",
              "Prefer Not To Say                                                       791\n",
              "Other                                                                   251\n",
              "American Indian or Alaska Native (not Hispanic or Latino)               162\n",
              "Native Hawaiian or Other Pacific Islander (not Hispanic or Latino)      151\n",
              "                                                                         70\n",
              "Name: Ethnicity, dtype: int64"
            ]
          },
          "metadata": {
            "tags": []
          },
          "execution_count": 78
        }
      ]
    },
    {
      "cell_type": "code",
      "metadata": {
        "id": "ZyUkrvZUhT_X"
      },
      "source": [
        "# race"
      ],
      "execution_count": 80,
      "outputs": []
    },
    {
      "cell_type": "code",
      "metadata": {
        "id": "y-f--bsWhg30",
        "outputId": "3d0dffa1-7be6-4863-8bb9-ad056b873e0a",
        "colab": {
          "base_uri": "https://localhost:8080/"
        }
      },
      "source": [
        "test.loc[test[\"Ethnicity\"] == \"Two or More Races (not Hispanic or Latino)\",\"Ethnicity\"]=\"Other\"\n",
        "test.loc[test[\"Ethnicity\"] == \"American Indian or Alaska Native (not Hispanic or Latino)\",\"Ethnicity\"]=\"Other\"\n",
        "test.loc[test[\"Ethnicity\"] == \"Native Hawaiian or Other Pacific Islander (not Hispanic or Latino)\",\"Ethnicity\"]=\"Other\"\n",
        "test[\"Ethnicity\"].value_counts()"
      ],
      "execution_count": 81,
      "outputs": [
        {
          "output_type": "execute_result",
          "data": {
            "text/plain": [
              "White (not Hispanic or Latino)                        12005\n",
              "Black or African American (not Hispanic or Latino)     7636\n",
              "Hispanic or Latino                                     4964\n",
              "Other                                                  2076\n",
              "Asian (not Hispanic or Latino)                         1187\n",
              "Prefer Not To Say                                       791\n",
              "                                                         70\n",
              "Name: Ethnicity, dtype: int64"
            ]
          },
          "metadata": {
            "tags": []
          },
          "execution_count": 81
        }
      ]
    },
    {
      "cell_type": "code",
      "metadata": {
        "id": "5zebx2O7iHXH",
        "outputId": "b7c957d5-97e1-4429-8a6a-6dd4974aa2e1",
        "colab": {
          "base_uri": "https://localhost:8080/"
        }
      },
      "source": [
        "Recommend.loc[Recommend['Ethnicity'] == 'White (not Hispanic or Latino)'].shape[0]"
      ],
      "execution_count": 82,
      "outputs": [
        {
          "output_type": "execute_result",
          "data": {
            "text/plain": [
              "9926"
            ]
          },
          "metadata": {
            "tags": []
          },
          "execution_count": 82
        }
      ]
    },
    {
      "cell_type": "code",
      "metadata": {
        "id": "kTL2oIOxiQ--",
        "outputId": "5edb2c68-4677-4dda-f52e-ec5235b15036",
        "colab": {
          "base_uri": "https://localhost:8080/"
        }
      },
      "source": [
        "Recommend.loc[Recommend['Ethnicity'] == 'Black or African American (not Hispanic or Latino)'].shape[0]"
      ],
      "execution_count": 83,
      "outputs": [
        {
          "output_type": "execute_result",
          "data": {
            "text/plain": [
              "5902"
            ]
          },
          "metadata": {
            "tags": []
          },
          "execution_count": 83
        }
      ]
    },
    {
      "cell_type": "code",
      "metadata": {
        "id": "lYzkt1_niRIl",
        "outputId": "b91c86ca-dbec-4a13-e59e-aa93274d9ef7",
        "colab": {
          "base_uri": "https://localhost:8080/"
        }
      },
      "source": [
        "Recommend.loc[Recommend['Ethnicity'] == 'Hispanic or Latino'].shape[0]"
      ],
      "execution_count": 84,
      "outputs": [
        {
          "output_type": "execute_result",
          "data": {
            "text/plain": [
              "3867"
            ]
          },
          "metadata": {
            "tags": []
          },
          "execution_count": 84
        }
      ]
    },
    {
      "cell_type": "code",
      "metadata": {
        "id": "0FFrNLBbiRR5",
        "outputId": "9aa0036e-ec75-40d1-fa4e-f796de46ab37",
        "colab": {
          "base_uri": "https://localhost:8080/"
        }
      },
      "source": [
        "Recommend.loc[Recommend['Ethnicity'] == 'Asian (not Hispanic or Latino)'].shape[0]"
      ],
      "execution_count": 85,
      "outputs": [
        {
          "output_type": "execute_result",
          "data": {
            "text/plain": [
              "925"
            ]
          },
          "metadata": {
            "tags": []
          },
          "execution_count": 85
        }
      ]
    },
    {
      "cell_type": "code",
      "metadata": {
        "id": "qs4dMiipiTUM",
        "outputId": "84b47d75-77aa-4a8c-b515-4e4b7e06c9c0",
        "colab": {
          "base_uri": "https://localhost:8080/"
        }
      },
      "source": [
        "Recommend.loc[Recommend['Ethnicity'] == 'Other'].shape[0]"
      ],
      "execution_count": 86,
      "outputs": [
        {
          "output_type": "execute_result",
          "data": {
            "text/plain": [
              "1674"
            ]
          },
          "metadata": {
            "tags": []
          },
          "execution_count": 86
        }
      ]
    },
    {
      "cell_type": "code",
      "metadata": {
        "id": "_IJpnQ6yihfh",
        "outputId": "48846268-e159-4232-a49e-06069c425694",
        "colab": {
          "base_uri": "https://localhost:8080/"
        }
      },
      "source": [
        "Recommend.loc[Recommend['Ethnicity'] == 'Prefer Not To Say'].shape[0]"
      ],
      "execution_count": 87,
      "outputs": [
        {
          "output_type": "execute_result",
          "data": {
            "text/plain": [
              "625"
            ]
          },
          "metadata": {
            "tags": []
          },
          "execution_count": 87
        }
      ]
    },
    {
      "cell_type": "code",
      "metadata": {
        "id": "3RdUZGzOinoG",
        "outputId": "f5265162-4f33-4b27-c9fc-6afd1ea2788e",
        "colab": {
          "base_uri": "https://localhost:8080/"
        }
      },
      "source": [
        "pass_race = np.array([9927,5902,3867,925,1674,624])\n",
        "total_race = np.array([12005,7635,4964,1187,2076,790])\n",
        "\n",
        "chisq, pvalue, table = proportion.proportions_chisquare(pass_race, total_race)\n",
        "print('Results are ','chisq =%.3f, pvalue = %.3f'%(chisq, pvalue))"
      ],
      "execution_count": 88,
      "outputs": [
        {
          "output_type": "stream",
          "text": [
            "Results are  chisq =106.839, pvalue = 0.000\n"
          ],
          "name": "stdout"
        }
      ]
    },
    {
      "cell_type": "markdown",
      "metadata": {
        "id": "hm_hZu6Dyjo-"
      },
      "source": [
        "Same result as above."
      ]
    }
  ]
}